{
 "cells": [
  {
   "cell_type": "code",
   "execution_count": 1,
   "metadata": {},
   "outputs": [
    {
     "output_type": "stream",
     "name": "stdout",
     "text": [
      "(0.2516, [8, 4, 1, 0.8, 6, 3])\n",
      "(0.3606, [2, 2, 0, 0.3677612439658075, 6, 3])\n",
      "(0.21059999999999998, [5, 1, 0, 0.7434538313157565, 6, 7])\n",
      "(0.3084, [5, 1, 1, 0.373779406268599, 6, 7])\n"
     ]
    },
    {
     "output_type": "display_data",
     "data": {
      "text/plain": "  arch  Usuario Personal/Impersonal  Nr. nodos  Nr. capas  \\\n0  mlp       34                 per        256         16   \n1  mlp       32                 per          4          4   \n2  mlp       34                 imp         32          2   \n3  mlp       32                 imp         32          2   \n\n   Usar Batch Normalization  Dropout  Nr. épocas  Tam. bache    MSE  \n0                         2    0.800          64           8  0.252  \n1                         1    0.368          64           8  0.361  \n2                         1    0.743          64         128  0.211  \n3                         2    0.374          64         128  0.308  ",
      "text/html": "<div>\n<style scoped>\n    .dataframe tbody tr th:only-of-type {\n        vertical-align: middle;\n    }\n\n    .dataframe tbody tr th {\n        vertical-align: top;\n    }\n\n    .dataframe thead th {\n        text-align: right;\n    }\n</style>\n<table border=\"1\" class=\"dataframe\">\n  <thead>\n    <tr style=\"text-align: right;\">\n      <th></th>\n      <th>arch</th>\n      <th>Usuario</th>\n      <th>Personal/Impersonal</th>\n      <th>Nr. nodos</th>\n      <th>Nr. capas</th>\n      <th>Usar Batch Normalization</th>\n      <th>Dropout</th>\n      <th>Nr. épocas</th>\n      <th>Tam. bache</th>\n      <th>MSE</th>\n    </tr>\n  </thead>\n  <tbody>\n    <tr>\n      <th>0</th>\n      <td>mlp</td>\n      <td>34</td>\n      <td>per</td>\n      <td>256</td>\n      <td>16</td>\n      <td>2</td>\n      <td>0.800</td>\n      <td>64</td>\n      <td>8</td>\n      <td>0.252</td>\n    </tr>\n    <tr>\n      <th>1</th>\n      <td>mlp</td>\n      <td>32</td>\n      <td>per</td>\n      <td>4</td>\n      <td>4</td>\n      <td>1</td>\n      <td>0.368</td>\n      <td>64</td>\n      <td>8</td>\n      <td>0.361</td>\n    </tr>\n    <tr>\n      <th>2</th>\n      <td>mlp</td>\n      <td>34</td>\n      <td>imp</td>\n      <td>32</td>\n      <td>2</td>\n      <td>1</td>\n      <td>0.743</td>\n      <td>64</td>\n      <td>128</td>\n      <td>0.211</td>\n    </tr>\n    <tr>\n      <th>3</th>\n      <td>mlp</td>\n      <td>32</td>\n      <td>imp</td>\n      <td>32</td>\n      <td>2</td>\n      <td>2</td>\n      <td>0.374</td>\n      <td>64</td>\n      <td>128</td>\n      <td>0.308</td>\n    </tr>\n  </tbody>\n</table>\n</div>"
     },
     "metadata": {}
    },
    {
     "output_type": "stream",
     "name": "stdout",
     "text": [
      "(0.24459999999999998, [1, 2, 0.0, 6, 0.4474155673501172, 4, 3])\n",
      "(0.34219999999999995, [2, 7, 0.0, 6, 0.5608200519233141, 3, 3])\n",
      "(0.2104, [2, 2, 0.0, 0, 0.8, 5, 3])\n",
      "(0.3, [1, 2, 0.0, 5, 0.0, 3, 3])\n"
     ]
    },
    {
     "output_type": "display_data",
     "data": {
      "text/plain": "  arch  Usuario Personal/Impersonal  Nr. capas  Nr. unidades LSTM  \\\n0  rnn       34                 per          2                  4   \n1  rnn       32                 per          4                128   \n2  rnn       34                 imp          4                  4   \n3  rnn       32                 imp          2                  4   \n\n   Dropout (lstm)  Nr nodos densos  Dropout (denso)  Nr. épocas  Tam. bache  \\\n0             0.0               64            0.447          16           8   \n1             0.0               64            0.561           8           8   \n2             0.0                1            0.800          32           8   \n3             0.0               32            0.000           8           8   \n\n     MSE  \n0  0.245  \n1  0.342  \n2  0.210  \n3  0.300  ",
      "text/html": "<div>\n<style scoped>\n    .dataframe tbody tr th:only-of-type {\n        vertical-align: middle;\n    }\n\n    .dataframe tbody tr th {\n        vertical-align: top;\n    }\n\n    .dataframe thead th {\n        text-align: right;\n    }\n</style>\n<table border=\"1\" class=\"dataframe\">\n  <thead>\n    <tr style=\"text-align: right;\">\n      <th></th>\n      <th>arch</th>\n      <th>Usuario</th>\n      <th>Personal/Impersonal</th>\n      <th>Nr. capas</th>\n      <th>Nr. unidades LSTM</th>\n      <th>Dropout (lstm)</th>\n      <th>Nr nodos densos</th>\n      <th>Dropout (denso)</th>\n      <th>Nr. épocas</th>\n      <th>Tam. bache</th>\n      <th>MSE</th>\n    </tr>\n  </thead>\n  <tbody>\n    <tr>\n      <th>0</th>\n      <td>rnn</td>\n      <td>34</td>\n      <td>per</td>\n      <td>2</td>\n      <td>4</td>\n      <td>0.0</td>\n      <td>64</td>\n      <td>0.447</td>\n      <td>16</td>\n      <td>8</td>\n      <td>0.245</td>\n    </tr>\n    <tr>\n      <th>1</th>\n      <td>rnn</td>\n      <td>32</td>\n      <td>per</td>\n      <td>4</td>\n      <td>128</td>\n      <td>0.0</td>\n      <td>64</td>\n      <td>0.561</td>\n      <td>8</td>\n      <td>8</td>\n      <td>0.342</td>\n    </tr>\n    <tr>\n      <th>2</th>\n      <td>rnn</td>\n      <td>34</td>\n      <td>imp</td>\n      <td>4</td>\n      <td>4</td>\n      <td>0.0</td>\n      <td>1</td>\n      <td>0.800</td>\n      <td>32</td>\n      <td>8</td>\n      <td>0.210</td>\n    </tr>\n    <tr>\n      <th>3</th>\n      <td>rnn</td>\n      <td>32</td>\n      <td>imp</td>\n      <td>2</td>\n      <td>4</td>\n      <td>0.0</td>\n      <td>32</td>\n      <td>0.000</td>\n      <td>8</td>\n      <td>8</td>\n      <td>0.300</td>\n    </tr>\n  </tbody>\n</table>\n</div>"
     },
     "metadata": {}
    },
    {
     "output_type": "stream",
     "name": "stdout",
     "text": [
      "(0.2578, [4, 4, 0.8, 1, 1, 8, 3])\n",
      "(0.3836, [2, 2, 0.8, 0, 1, 8, 3])\n",
      "(0.21599999999999997, [6, 2, 0.8, 0, 1, 6, 7])\n",
      "(0.307, [2, 4, 0.505993020593099, 0, 1, 8, 7])\n"
     ]
    },
    {
     "output_type": "display_data",
     "data": {
      "text/plain": "  arch  Usuario Personal/Impersonal  Nr. filtros  Tam. kernel  Dropout  \\\n0  tcn       34                 per           16           16    0.800   \n1  tcn       32                 per            4            4    0.800   \n2  tcn       34                 imp           64            4    0.800   \n3  tcn       32                 imp            4           16    0.506   \n\n   Omitir conexiones  Usar Batch Normalization  Nr. épocas  Tam. bache    MSE  \n0                  2                         2         256           8  0.258  \n1                  1                         2         256           8  0.384  \n2                  1                         2          64         128  0.216  \n3                  1                         2         256         128  0.307  ",
      "text/html": "<div>\n<style scoped>\n    .dataframe tbody tr th:only-of-type {\n        vertical-align: middle;\n    }\n\n    .dataframe tbody tr th {\n        vertical-align: top;\n    }\n\n    .dataframe thead th {\n        text-align: right;\n    }\n</style>\n<table border=\"1\" class=\"dataframe\">\n  <thead>\n    <tr style=\"text-align: right;\">\n      <th></th>\n      <th>arch</th>\n      <th>Usuario</th>\n      <th>Personal/Impersonal</th>\n      <th>Nr. filtros</th>\n      <th>Tam. kernel</th>\n      <th>Dropout</th>\n      <th>Omitir conexiones</th>\n      <th>Usar Batch Normalization</th>\n      <th>Nr. épocas</th>\n      <th>Tam. bache</th>\n      <th>MSE</th>\n    </tr>\n  </thead>\n  <tbody>\n    <tr>\n      <th>0</th>\n      <td>tcn</td>\n      <td>34</td>\n      <td>per</td>\n      <td>16</td>\n      <td>16</td>\n      <td>0.800</td>\n      <td>2</td>\n      <td>2</td>\n      <td>256</td>\n      <td>8</td>\n      <td>0.258</td>\n    </tr>\n    <tr>\n      <th>1</th>\n      <td>tcn</td>\n      <td>32</td>\n      <td>per</td>\n      <td>4</td>\n      <td>4</td>\n      <td>0.800</td>\n      <td>1</td>\n      <td>2</td>\n      <td>256</td>\n      <td>8</td>\n      <td>0.384</td>\n    </tr>\n    <tr>\n      <th>2</th>\n      <td>tcn</td>\n      <td>34</td>\n      <td>imp</td>\n      <td>64</td>\n      <td>4</td>\n      <td>0.800</td>\n      <td>1</td>\n      <td>2</td>\n      <td>64</td>\n      <td>128</td>\n      <td>0.216</td>\n    </tr>\n    <tr>\n      <th>3</th>\n      <td>tcn</td>\n      <td>32</td>\n      <td>imp</td>\n      <td>4</td>\n      <td>16</td>\n      <td>0.506</td>\n      <td>1</td>\n      <td>2</td>\n      <td>256</td>\n      <td>128</td>\n      <td>0.307</td>\n    </tr>\n  </tbody>\n</table>\n</div>"
     },
     "metadata": {}
    },
    {
     "output_type": "stream",
     "name": "stdout",
     "text": [
      "(0.2686, [8, 2, 0.0, 4, 0.8, 6, 3])\n",
      "(0.3832, [7, 3, 0.04065571452744929, 3, 0.5893029464859189, 6, 3])\n",
      "(0.21039999999999998, [8, 4, 0.8, 6, 0.3058565417428838, 6, 8])\n",
      "(0.305, [2, 4, 0.0, 6, 0.8, 5, 8])\n"
     ]
    },
    {
     "output_type": "display_data",
     "data": {
      "text/plain": "  arch  Usuario Personal/Impersonal  Nr. filtros  Tam. kernel  Dropout (conv)  \\\n0  cnn       34                 per          256            4           0.000   \n1  cnn       32                 per          128            8           0.041   \n2  cnn       34                 imp          256           16           0.800   \n3  cnn       32                 imp            4           16           0.000   \n\n   Nr. nodos densos  Dropout (denso)  Nr. épocas  Tam. bache    MSE  \n0                16            0.800          64           8  0.269  \n1                 8            0.589          64           8  0.383  \n2                64            0.306          64         256  0.210  \n3                64            0.800          32         256  0.305  ",
      "text/html": "<div>\n<style scoped>\n    .dataframe tbody tr th:only-of-type {\n        vertical-align: middle;\n    }\n\n    .dataframe tbody tr th {\n        vertical-align: top;\n    }\n\n    .dataframe thead th {\n        text-align: right;\n    }\n</style>\n<table border=\"1\" class=\"dataframe\">\n  <thead>\n    <tr style=\"text-align: right;\">\n      <th></th>\n      <th>arch</th>\n      <th>Usuario</th>\n      <th>Personal/Impersonal</th>\n      <th>Nr. filtros</th>\n      <th>Tam. kernel</th>\n      <th>Dropout (conv)</th>\n      <th>Nr. nodos densos</th>\n      <th>Dropout (denso)</th>\n      <th>Nr. épocas</th>\n      <th>Tam. bache</th>\n      <th>MSE</th>\n    </tr>\n  </thead>\n  <tbody>\n    <tr>\n      <th>0</th>\n      <td>cnn</td>\n      <td>34</td>\n      <td>per</td>\n      <td>256</td>\n      <td>4</td>\n      <td>0.000</td>\n      <td>16</td>\n      <td>0.800</td>\n      <td>64</td>\n      <td>8</td>\n      <td>0.269</td>\n    </tr>\n    <tr>\n      <th>1</th>\n      <td>cnn</td>\n      <td>32</td>\n      <td>per</td>\n      <td>128</td>\n      <td>8</td>\n      <td>0.041</td>\n      <td>8</td>\n      <td>0.589</td>\n      <td>64</td>\n      <td>8</td>\n      <td>0.383</td>\n    </tr>\n    <tr>\n      <th>2</th>\n      <td>cnn</td>\n      <td>34</td>\n      <td>imp</td>\n      <td>256</td>\n      <td>16</td>\n      <td>0.800</td>\n      <td>64</td>\n      <td>0.306</td>\n      <td>64</td>\n      <td>256</td>\n      <td>0.210</td>\n    </tr>\n    <tr>\n      <th>3</th>\n      <td>cnn</td>\n      <td>32</td>\n      <td>imp</td>\n      <td>4</td>\n      <td>16</td>\n      <td>0.000</td>\n      <td>64</td>\n      <td>0.800</td>\n      <td>32</td>\n      <td>256</td>\n      <td>0.305</td>\n    </tr>\n  </tbody>\n</table>\n</div>"
     },
     "metadata": {}
    }
   ],
   "source": [
    "import sys\n",
    "sys.path.append('c:\\\\Users\\\\marsa\\\\Documents\\\\projects\\\\tesis-project\\\\src')\n",
    "from tunning.f_utils import get_tunning_results\n",
    "from IPython.display import display\n",
    "\n",
    "def fitness():\n",
    "    pass\n",
    "\n",
    "for arch in ['mlp', 'rnn', 'tcn','cnn']:\n",
    "    display(get_tunning_results(arch))\n"
   ]
  }
 ],
 "metadata": {
  "kernelspec": {
   "name": "python388jvsc74a57bd0483d62e0fd38c649754acf6feff28592e71fa92d0e6ef214dca7b372df6f7f12",
   "display_name": "Python 3.8.8 64-bit ('tesis-env': conda)"
  },
  "language_info": {
   "codemirror_mode": {
    "name": "ipython",
    "version": 3
   },
   "file_extension": ".py",
   "mimetype": "text/x-python",
   "name": "python",
   "nbconvert_exporter": "python",
   "pygments_lexer": "ipython3",
   "version": "3.8.8"
  }
 },
 "nbformat": 4,
 "nbformat_minor": 2
}